{
  "nbformat": 4,
  "nbformat_minor": 0,
  "metadata": {
    "colab": {
      "name": "model.ipynb",
      "provenance": [],
      "authorship_tag": "ABX9TyM9nGJaqQUVO0/8P8ici+co",
      "include_colab_link": true
    },
    "kernelspec": {
      "name": "python3",
      "display_name": "Python 3"
    },
    "language_info": {
      "name": "python"
    },
    "accelerator": "GPU"
  },
  "cells": [
    {
      "cell_type": "markdown",
      "metadata": {
        "id": "view-in-github",
        "colab_type": "text"
      },
      "source": [
        "<a href=\"https://colab.research.google.com/github/zubairwazir/DriverDrowsinesDetection-SmartCityLab-NCAI-Task/blob/master/model.ipynb\" target=\"_parent\"><img src=\"https://colab.research.google.com/assets/colab-badge.svg\" alt=\"Open In Colab\"/></a>"
      ]
    },
    {
      "cell_type": "markdown",
      "source": [
        "# Project: **Driver Drowsiness Detection System**\n",
        "\n",
        "---\n",
        "\n",
        "\n",
        "#Author: **Zubair Ahmad Khan**\n",
        "\n",
        "---\n",
        "\n",
        "\n",
        "# Submitted To: **Saadiah Saleem** \n",
        "> Research Assistant\n",
        "> Smart City Lab - NCAI\n"
      ],
      "metadata": {
        "id": "N7kE1pQnf_qW"
      }
    },
    {
      "cell_type": "markdown",
      "source": [
        "# Importing the libraries"
      ],
      "metadata": {
        "id": "ZAOtC_bBKh8c"
      }
    },
    {
      "cell_type": "code",
      "execution_count": null,
      "metadata": {
        "id": "AG6KukGruRLN"
      },
      "outputs": [],
      "source": [
        "import tensorflow as tf\n",
        "from keras.preprocessing.image import ImageDataGenerator"
      ]
    },
    {
      "cell_type": "markdown",
      "source": [
        "# Part 1 - Data Preprocessing\n",
        "\n",
        "## Preprocessing the Training set"
      ],
      "metadata": {
        "id": "tba4Xn1SKrKw"
      }
    },
    {
      "cell_type": "code",
      "source": [
        "from google.colab import drive\n",
        "drive.mount('/gdrive')\n",
        "%cd /gdrive/My\\ Drive/Colab\\ Notebooks/Driver\\ Drowsiness\\ Detection"
      ],
      "metadata": {
        "colab": {
          "base_uri": "https://localhost:8080/"
        },
        "id": "KkXDjWjENOLI",
        "outputId": "4410a765-76af-49d2-99a2-cb15b920f027"
      },
      "execution_count": null,
      "outputs": [
        {
          "output_type": "stream",
          "name": "stdout",
          "text": [
            "Drive already mounted at /gdrive; to attempt to forcibly remount, call drive.mount(\"/gdrive\", force_remount=True).\n",
            "/gdrive/My Drive/Colab Notebooks/Driver Drowsiness Detection\n"
          ]
        }
      ]
    },
    {
      "cell_type": "code",
      "source": [
        "train_datagen = ImageDataGenerator(rescale = 1./255,shear_range = 0.2, zoom_range = 0.2, horizontal_flip = True)\n",
        "training_set = train_datagen.flow_from_directory('dataset/training_set', target_size = (64, 64), batch_size = 32, class_mode = 'binary')"
      ],
      "metadata": {
        "colab": {
          "base_uri": "https://localhost:8080/"
        },
        "id": "XdHF8BwoJsdT",
        "outputId": "6639a69a-d727-4276-f73f-084f6858be52"
      },
      "execution_count": null,
      "outputs": [
        {
          "output_type": "stream",
          "name": "stdout",
          "text": [
            "Found 1234 images belonging to 2 classes.\n"
          ]
        }
      ]
    },
    {
      "cell_type": "markdown",
      "source": [
        "## Preprocessing the Test set"
      ],
      "metadata": {
        "id": "ic8ZxqhcKvlw"
      }
    },
    {
      "cell_type": "code",
      "source": [
        "test_datagen = ImageDataGenerator(rescale = 1./255)\n",
        "test_set = test_datagen.flow_from_directory('dataset/test_set', target_size = (64, 64), batch_size = 32, class_mode = 'binary')"
      ],
      "metadata": {
        "colab": {
          "base_uri": "https://localhost:8080/"
        },
        "id": "F_8D3rJrJsfp",
        "outputId": "ef0ca12c-f307-4cd5-bc15-8297c54e5bc3"
      },
      "execution_count": null,
      "outputs": [
        {
          "output_type": "stream",
          "name": "stdout",
          "text": [
            "Found 218 images belonging to 2 classes.\n"
          ]
        }
      ]
    },
    {
      "cell_type": "markdown",
      "source": [
        "# Part 2 - Building the CNN Model\n",
        "\n",
        "## Initializing the CNN Model"
      ],
      "metadata": {
        "id": "FsHHhg99Kz_Q"
      }
    },
    {
      "cell_type": "code",
      "source": [
        "model = tf.keras.models.Sequential()"
      ],
      "metadata": {
        "id": "4bvEj1MWJsjS"
      },
      "execution_count": null,
      "outputs": []
    },
    {
      "cell_type": "markdown",
      "source": [
        "## Step 1 - Convolution\n"
      ],
      "metadata": {
        "id": "27CcmSH8K92V"
      }
    },
    {
      "cell_type": "code",
      "source": [
        "model.add(tf.keras.layers.Conv2D(filters=32, kernel_size=3, activation='relu', input_shape=[64, 64, 3]))"
      ],
      "metadata": {
        "id": "VdNS_-xSJsmc"
      },
      "execution_count": null,
      "outputs": []
    },
    {
      "cell_type": "markdown",
      "source": [
        "## Step 2 - Pooling"
      ],
      "metadata": {
        "id": "OS0Hqic_LAxe"
      }
    },
    {
      "cell_type": "code",
      "source": [
        "model.add(tf.keras.layers.MaxPool2D(pool_size=2, strides=2))"
      ],
      "metadata": {
        "id": "geLPlVjbJs4v"
      },
      "execution_count": null,
      "outputs": []
    },
    {
      "cell_type": "markdown",
      "source": [
        "## Adding a second convolutional layer"
      ],
      "metadata": {
        "id": "iASuQo1rLD6-"
      }
    },
    {
      "cell_type": "code",
      "source": [
        "model.add(tf.keras.layers.Conv2D(filters=32, kernel_size=3, activation='relu'))\n",
        "model.add(tf.keras.layers.MaxPool2D(pool_size=2, strides=2))"
      ],
      "metadata": {
        "id": "Xdxt4ptiJs90"
      },
      "execution_count": null,
      "outputs": []
    },
    {
      "cell_type": "markdown",
      "source": [
        "## Step 3 - Flattening"
      ],
      "metadata": {
        "id": "hN-9IBoQLHeo"
      }
    },
    {
      "cell_type": "code",
      "source": [
        "model.add(tf.keras.layers.Flatten())"
      ],
      "metadata": {
        "id": "-qY5f9jdJtAW"
      },
      "execution_count": null,
      "outputs": []
    },
    {
      "cell_type": "markdown",
      "source": [
        "## Step 4 - Full Connection"
      ],
      "metadata": {
        "id": "naWuE9b0LL7N"
      }
    },
    {
      "cell_type": "code",
      "source": [
        "model.add(tf.keras.layers.Dense(units=128, activation='relu'))"
      ],
      "metadata": {
        "id": "POHGcqQLJtDC"
      },
      "execution_count": null,
      "outputs": []
    },
    {
      "cell_type": "markdown",
      "source": [
        "## Step 5 - Output Layer"
      ],
      "metadata": {
        "id": "2YXciQyBLOqU"
      }
    },
    {
      "cell_type": "code",
      "source": [
        "model.add(tf.keras.layers.Dense(units=1, activation='sigmoid'))"
      ],
      "metadata": {
        "id": "POdXBLqTJtFq"
      },
      "execution_count": null,
      "outputs": []
    },
    {
      "cell_type": "markdown",
      "source": [
        "# Part 3 - Training the CNN Model\n",
        "\n",
        "## Compiling the CNN Model"
      ],
      "metadata": {
        "id": "cmFgY4u_LS6L"
      }
    },
    {
      "cell_type": "code",
      "source": [
        "model.compile(optimizer = 'adam', loss = 'binary_crossentropy', metrics = ['accuracy'])"
      ],
      "metadata": {
        "id": "M1WQq1GVJtIU"
      },
      "execution_count": null,
      "outputs": []
    },
    {
      "cell_type": "markdown",
      "source": [
        "## Training the CNN Model on the Training set and evaluating it on the Test set"
      ],
      "metadata": {
        "id": "8b26RG6JLUOu"
      }
    },
    {
      "cell_type": "code",
      "source": [
        "model.fit(x = training_set, validation_data = test_set, epochs = 25)"
      ],
      "metadata": {
        "colab": {
          "base_uri": "https://localhost:8080/"
        },
        "id": "TLmMr3sXJtK1",
        "outputId": "c3f9f01f-1ea2-4ee3-ab91-5f8b2d690759"
      },
      "execution_count": null,
      "outputs": [
        {
          "output_type": "stream",
          "name": "stdout",
          "text": [
            "Epoch 1/25\n",
            "39/39 [==============================] - 221s 5s/step - loss: 0.4590 - accuracy: 0.7780 - val_loss: 0.1632 - val_accuracy: 0.9450\n",
            "Epoch 2/25\n",
            "39/39 [==============================] - 7s 191ms/step - loss: 0.1722 - accuracy: 0.9376 - val_loss: 0.1338 - val_accuracy: 0.9587\n",
            "Epoch 3/25\n",
            "39/39 [==============================] - 7s 188ms/step - loss: 0.1265 - accuracy: 0.9538 - val_loss: 0.1207 - val_accuracy: 0.9495\n",
            "Epoch 4/25\n",
            "39/39 [==============================] - 7s 188ms/step - loss: 0.0832 - accuracy: 0.9660 - val_loss: 0.1112 - val_accuracy: 0.9633\n",
            "Epoch 5/25\n",
            "39/39 [==============================] - 7s 189ms/step - loss: 0.0732 - accuracy: 0.9749 - val_loss: 0.1040 - val_accuracy: 0.9725\n",
            "Epoch 6/25\n",
            "39/39 [==============================] - 7s 191ms/step - loss: 0.0577 - accuracy: 0.9724 - val_loss: 0.1319 - val_accuracy: 0.9541\n",
            "Epoch 7/25\n",
            "39/39 [==============================] - 7s 189ms/step - loss: 0.0584 - accuracy: 0.9749 - val_loss: 0.0968 - val_accuracy: 0.9587\n",
            "Epoch 8/25\n",
            "39/39 [==============================] - 7s 189ms/step - loss: 0.0611 - accuracy: 0.9773 - val_loss: 0.0924 - val_accuracy: 0.9771\n",
            "Epoch 9/25\n",
            "39/39 [==============================] - 7s 186ms/step - loss: 0.0500 - accuracy: 0.9822 - val_loss: 0.1252 - val_accuracy: 0.9679\n",
            "Epoch 10/25\n",
            "39/39 [==============================] - 7s 188ms/step - loss: 0.0678 - accuracy: 0.9749 - val_loss: 0.1458 - val_accuracy: 0.9541\n",
            "Epoch 11/25\n",
            "39/39 [==============================] - 7s 187ms/step - loss: 0.0466 - accuracy: 0.9806 - val_loss: 0.0931 - val_accuracy: 0.9679\n",
            "Epoch 12/25\n",
            "39/39 [==============================] - 7s 186ms/step - loss: 0.0309 - accuracy: 0.9887 - val_loss: 0.1197 - val_accuracy: 0.9633\n",
            "Epoch 13/25\n",
            "39/39 [==============================] - 7s 189ms/step - loss: 0.0469 - accuracy: 0.9797 - val_loss: 0.1848 - val_accuracy: 0.9404\n",
            "Epoch 14/25\n",
            "39/39 [==============================] - 7s 188ms/step - loss: 0.0437 - accuracy: 0.9838 - val_loss: 0.1155 - val_accuracy: 0.9725\n",
            "Epoch 15/25\n",
            "39/39 [==============================] - 7s 190ms/step - loss: 0.0353 - accuracy: 0.9862 - val_loss: 0.0743 - val_accuracy: 0.9771\n",
            "Epoch 16/25\n",
            "39/39 [==============================] - 7s 186ms/step - loss: 0.0353 - accuracy: 0.9854 - val_loss: 0.0709 - val_accuracy: 0.9725\n",
            "Epoch 17/25\n",
            "39/39 [==============================] - 7s 188ms/step - loss: 0.0249 - accuracy: 0.9927 - val_loss: 0.0601 - val_accuracy: 0.9862\n",
            "Epoch 18/25\n",
            "39/39 [==============================] - 7s 190ms/step - loss: 0.0520 - accuracy: 0.9806 - val_loss: 0.1646 - val_accuracy: 0.9587\n",
            "Epoch 19/25\n",
            "39/39 [==============================] - 7s 189ms/step - loss: 0.0403 - accuracy: 0.9838 - val_loss: 0.0637 - val_accuracy: 0.9817\n",
            "Epoch 20/25\n",
            "39/39 [==============================] - 7s 188ms/step - loss: 0.0265 - accuracy: 0.9903 - val_loss: 0.0954 - val_accuracy: 0.9725\n",
            "Epoch 21/25\n",
            "39/39 [==============================] - 7s 188ms/step - loss: 0.0330 - accuracy: 0.9895 - val_loss: 0.0583 - val_accuracy: 0.9817\n",
            "Epoch 22/25\n",
            "39/39 [==============================] - 7s 185ms/step - loss: 0.0454 - accuracy: 0.9878 - val_loss: 0.1108 - val_accuracy: 0.9541\n",
            "Epoch 23/25\n",
            "39/39 [==============================] - 7s 185ms/step - loss: 0.0327 - accuracy: 0.9895 - val_loss: 0.0479 - val_accuracy: 0.9771\n",
            "Epoch 24/25\n",
            "39/39 [==============================] - 7s 187ms/step - loss: 0.0342 - accuracy: 0.9862 - val_loss: 0.0396 - val_accuracy: 0.9862\n",
            "Epoch 25/25\n",
            "39/39 [==============================] - 7s 188ms/step - loss: 0.0223 - accuracy: 0.9911 - val_loss: 0.0934 - val_accuracy: 0.9679\n"
          ]
        },
        {
          "output_type": "execute_result",
          "data": {
            "text/plain": [
              "<keras.callbacks.History at 0x7f739c6cd9d0>"
            ]
          },
          "metadata": {},
          "execution_count": 15
        }
      ]
    },
    {
      "cell_type": "markdown",
      "source": [
        "# Part 4 - Making a single prediction\n"
      ],
      "metadata": {
        "id": "L4UnaZ9pLc6t"
      }
    },
    {
      "cell_type": "code",
      "source": [
        "import numpy as np\n",
        "from keras.preprocessing import image\n",
        "test_image = image.load_img('dataset/single_prediction/closed_or_open_2.jpg', \n",
        "                            target_size = (64, 64))\n",
        "test_image = image.img_to_array(test_image)\n",
        "test_image = np.expand_dims(test_image, axis = 0)\n",
        "result = model.predict(test_image)\n",
        "training_set.class_indices\n",
        "if result[0][0] == 1:\n",
        "    prediction = 'open'\n",
        "else:\n",
        "    prediction = 'closed'\n",
        "print(prediction)"
      ],
      "metadata": {
        "colab": {
          "base_uri": "https://localhost:8080/"
        },
        "id": "XcOGGab4JtNx",
        "outputId": "f0a163e5-3d4e-4259-b41c-c72a7432d3a7"
      },
      "execution_count": null,
      "outputs": [
        {
          "output_type": "stream",
          "name": "stdout",
          "text": [
            "open\n"
          ]
        }
      ]
    },
    {
      "cell_type": "code",
      "source": [
        "model.summary()"
      ],
      "metadata": {
        "colab": {
          "base_uri": "https://localhost:8080/"
        },
        "id": "8LE-5N1wJtQU",
        "outputId": "81901407-247a-4fce-e1e2-aab531c5db87"
      },
      "execution_count": null,
      "outputs": [
        {
          "output_type": "stream",
          "name": "stdout",
          "text": [
            "Model: \"sequential\"\n",
            "_________________________________________________________________\n",
            " Layer (type)                Output Shape              Param #   \n",
            "=================================================================\n",
            " conv2d (Conv2D)             (None, 62, 62, 32)        896       \n",
            "                                                                 \n",
            " max_pooling2d (MaxPooling2D  (None, 31, 31, 32)       0         \n",
            " )                                                               \n",
            "                                                                 \n",
            " conv2d_1 (Conv2D)           (None, 29, 29, 32)        9248      \n",
            "                                                                 \n",
            " max_pooling2d_1 (MaxPooling  (None, 14, 14, 32)       0         \n",
            " 2D)                                                             \n",
            "                                                                 \n",
            " flatten (Flatten)           (None, 6272)              0         \n",
            "                                                                 \n",
            " dense (Dense)               (None, 128)               802944    \n",
            "                                                                 \n",
            " dense_1 (Dense)             (None, 1)                 129       \n",
            "                                                                 \n",
            "=================================================================\n",
            "Total params: 813,217\n",
            "Trainable params: 813,217\n",
            "Non-trainable params: 0\n",
            "_________________________________________________________________\n"
          ]
        }
      ]
    },
    {
      "cell_type": "code",
      "source": [
        "model.save(\"model/cnnCat.h5\", overwrite=True)"
      ],
      "metadata": {
        "id": "YwtP-_HeJtSx"
      },
      "execution_count": null,
      "outputs": []
    }
  ]
}